{
 "cells": [
  {
   "cell_type": "code",
   "execution_count": 252,
   "metadata": {
    "collapsed": true
   },
   "outputs": [],
   "source": [
    "import re\n",
    "from collections import defaultdict\n",
    "import argparse\n",
    "import io\n",
    "\n",
    "\n",
    "inputString = 'I have an idea lets eat bbq\\n I think thats alright\\n Let us send out a memo saying that I hate Django Web Framework\\n David you will be assigned the task of typing'\n",
    "\n",
    "\n",
    "\n",
    "ideaPattern = 'I have an idea'\n",
    "\n",
    "ideaReply = 'I think'\n",
    "\n",
    "ideasDict = defaultdict(float)\n",
    "\n"
   ]
  },
  {
   "cell_type": "code",
   "execution_count": null,
   "metadata": {
    "collapsed": true
   },
   "outputs": [],
   "source": []
  },
  {
   "cell_type": "code",
   "execution_count": 269,
   "metadata": {},
   "outputs": [
    {
     "name": "stdout",
     "output_type": "stream",
     "text": [
      "['lets eat bbq']\n"
     ]
    },
    {
     "data": {
      "text/plain": [
       "['I think thats alright']"
      ]
     },
     "execution_count": 269,
     "metadata": {},
     "output_type": "execute_result"
    }
   ],
   "source": [
    "# idea\n",
    "print re.findall(r'I have an idea ([\\w+\\s]+)\\n I', inputString)\n",
    "\n",
    "# response\n",
    "re.findall(r'I have an idea [\\w+\\s]+\\n (I.+)', inputString)"
   ]
  },
  {
   "cell_type": "code",
   "execution_count": 270,
   "metadata": {},
   "outputs": [
    {
     "name": "stdout",
     "output_type": "stream",
     "text": [
      "['I hate Django Web Framework']\n"
     ]
    }
   ],
   "source": [
    "memoPattern = 'Let us send out a memo saying'\n",
    "print re.findall(r'Let us send out a memo saying that ([\\w+\\s]+)\\n', inputString) "
   ]
  },
  {
   "cell_type": "code",
   "execution_count": 275,
   "metadata": {},
   "outputs": [
    {
     "data": {
      "text/plain": [
       "['typing']"
      ]
     },
     "execution_count": 275,
     "metadata": {},
     "output_type": "execute_result"
    }
   ],
   "source": [
    "taskPattern = 'you will be assigned the task of'\n",
    "\n",
    "\n",
    "re.findall(r'[A-Z][a-z]+ you will be assigned the task of (.+)',inputString)\n"
   ]
  },
  {
   "cell_type": "code",
   "execution_count": null,
   "metadata": {
    "collapsed": true
   },
   "outputs": [],
   "source": []
  },
  {
   "cell_type": "code",
   "execution_count": null,
   "metadata": {
    "collapsed": true
   },
   "outputs": [],
   "source": []
  }
 ],
 "metadata": {
  "kernelspec": {
   "display_name": "Python 2",
   "language": "python",
   "name": "python2"
  },
  "language_info": {
   "codemirror_mode": {
    "name": "ipython",
    "version": 2
   },
   "file_extension": ".py",
   "mimetype": "text/x-python",
   "name": "python",
   "nbconvert_exporter": "python",
   "pygments_lexer": "ipython2",
   "version": "2.7.14"
  }
 },
 "nbformat": 4,
 "nbformat_minor": 2
}
